{
 "cells": [
  {
   "cell_type": "markdown",
   "metadata": {},
   "source": [
    "# In this we will work to read data from files"
   ]
  },
  {
   "cell_type": "markdown",
   "metadata": {},
   "source": [
    "**open(file_name(file name along with complete path),access_mode_optinal)**\n",
    "\n",
    "access mode \n",
    " * r : read mode 'default'\n",
    " * w : write mode 'deletes the old data and writes with the first line'\n",
    " * a : append mode"
   ]
  },
  {
   "cell_type": "code",
   "execution_count": 30,
   "metadata": {},
   "outputs": [],
   "source": [
    "file_txt = open(\"C:/Users/anura/Downloads/sample1.txt\",'r')"
   ]
  },
  {
   "cell_type": "code",
   "execution_count": 31,
   "metadata": {},
   "outputs": [
    {
     "name": "stdout",
     "output_type": "stream",
     "text": [
      "<_io.TextIOWrapper name='C:/Users/anura/Downloads/sample1.txt' mode='r' encoding='cp1252'>\n"
     ]
    }
   ],
   "source": [
    "print(file_txt)"
   ]
  },
  {
   "cell_type": "markdown",
   "metadata": {},
   "source": [
    "### Now to read: file_object.read()"
   ]
  },
  {
   "cell_type": "code",
   "execution_count": 32,
   "metadata": {},
   "outputs": [
    {
     "name": "stdout",
     "output_type": "stream",
     "text": [
      "Utilitatis causa amicitia est quaesita.\n",
      "Lorem ipsum dolor sit amet, consectetur adipiscing elit. Collatio igitur ista te nihil iuvat. Honesta oratio, Socratica, Platonis etiam. Primum in nostrane potestate est, quid meminerimus? Duo Reges: constructio interrete. Quid, si etiam iucunda memoria est praeteritorum malorum? Si quidem, inquit, tollerem, sed relinquo. An nisi populari fama?\n",
      "\n",
      "Quamquam id quidem licebit iis existimare, qui legerint. Summum a vobis bonum voluptas dicitur. At hoc in eo M. Refert tamen, quo modo. Quid sequatur, quid repugnet, vident. Iam id ipsum absurdum, maximum malum neglegi.\n"
     ]
    }
   ],
   "source": [
    "file_data = file_txt.read()\n",
    "print(file_data)"
   ]
  },
  {
   "cell_type": "code",
   "execution_count": 33,
   "metadata": {},
   "outputs": [
    {
     "name": "stdout",
     "output_type": "stream",
     "text": [
      "<class 'str'>\n"
     ]
    }
   ],
   "source": [
    "print(type(file_data))"
   ]
  },
  {
   "cell_type": "markdown",
   "metadata": {},
   "source": [
    "### read(n) where n = total numbers of bytes we want to read"
   ]
  },
  {
   "cell_type": "code",
   "execution_count": 37,
   "metadata": {},
   "outputs": [
    {
     "name": "stdout",
     "output_type": "stream",
     "text": [
      "Utilitatis causa amicitia est quaesita.\n",
      "Lorem ipsum dolor sit amet, consectetur adipiscing elit. Col\n"
     ]
    }
   ],
   "source": [
    "file_txt = open(\"C:/Users/anura/Downloads/sample1.txt\",'r')\n",
    "file_data = file_txt.read(100)  #only reads 100 bytes\n",
    "print(file_data)"
   ]
  },
  {
   "cell_type": "code",
   "execution_count": 44,
   "metadata": {},
   "outputs": [
    {
     "name": "stdout",
     "output_type": "stream",
     "text": [
      "Utilitatis causa amicitia est quaesita.\n",
      "\n",
      "------above is the first line------ \n",
      "\n",
      "Lorem ipsum dolor sit amet, consectetur adipiscing elit. Collatio igitur ista te nihil iuvat. Honesta oratio, Socratica, Platonis etiam. Primum in nostrane potestate est, quid meminerimus? Duo Reges: constructio interrete. Quid, si etiam iucunda memoria est praeteritorum malorum? Si quidem, inquit, tollerem, sed relinquo. An nisi populari fama?\n",
      "\n",
      "-----above is the second line------\n"
     ]
    }
   ],
   "source": [
    "file_txt = open(\"C:/Users/anura/Downloads/sample1.txt\",'r')\n",
    "file_data = file_txt.readline()  #read one line at a time\n",
    "print(file_data)\n",
    "print('------above is the first line------ \\n')\n",
    "print(file_txt.readline())\n",
    "print('-----above is the second line------')\n",
    "\n",
    " #this function readline stores the point at which we have read lines and in next call it will\n",
    " #return the next line like below output"
   ]
  },
  {
   "cell_type": "markdown",
   "metadata": {},
   "source": [
    "## readline(n) where n : total number of bytes we want to read\n",
    "\n",
    "### it do min( n,current_line) \n",
    "this means that this function can read only one line at a time altough we pass large n"
   ]
  },
  {
   "cell_type": "code",
   "execution_count": 45,
   "metadata": {},
   "outputs": [
    {
     "name": "stdout",
     "output_type": "stream",
     "text": [
      "Utilitatis causa amicitia est quaesita.\n",
      "\n"
     ]
    }
   ],
   "source": [
    "file_txt = open(\"C:/Users/anura/Downloads/sample1.txt\",'r')\n",
    "file_data = file_txt.readline(100)  #read one line at a time\n",
    "print(file_data)"
   ]
  },
  {
   "cell_type": "code",
   "execution_count": 46,
   "metadata": {},
   "outputs": [
    {
     "name": "stdout",
     "output_type": "stream",
     "text": [
      "Utilitatis causa amicitia est quaesita.\n",
      "\n"
     ]
    }
   ],
   "source": [
    "file_txt = open(\"C:/Users/anura/Downloads/sample1.txt\",'r')\n",
    "file_data = file_txt.readline(10000)  #read one line at a time\n",
    "print(file_data)"
   ]
  },
  {
   "cell_type": "code",
   "execution_count": null,
   "metadata": {},
   "outputs": [],
   "source": []
  }
 ],
 "metadata": {
  "kernelspec": {
   "display_name": "Python 3",
   "language": "python",
   "name": "python3"
  },
  "language_info": {
   "codemirror_mode": {
    "name": "ipython",
    "version": 3
   },
   "file_extension": ".py",
   "mimetype": "text/x-python",
   "name": "python",
   "nbconvert_exporter": "python",
   "pygments_lexer": "ipython3",
   "version": "3.8.5"
  }
 },
 "nbformat": 4,
 "nbformat_minor": 4
}

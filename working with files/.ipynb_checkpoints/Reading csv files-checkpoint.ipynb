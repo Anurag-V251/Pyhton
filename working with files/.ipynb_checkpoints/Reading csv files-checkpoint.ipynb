{
 "cells": [
  {
   "cell_type": "markdown",
   "metadata": {},
   "source": [
    "# Reading CSV files"
   ]
  },
  {
   "cell_type": "code",
   "execution_count": 1,
   "metadata": {},
   "outputs": [],
   "source": [
    "with open(\"C:/Users/anura/Downloads/10000 Sales Records.csv\") as file_obj:\n",
    "    file_data = file_obj.readlines()"
   ]
  },
  {
   "cell_type": "code",
   "execution_count": 2,
   "metadata": {},
   "outputs": [
    {
     "name": "stdout",
     "output_type": "stream",
     "text": [
      "['Region,Country,Item Type,Sales Channel,Order Priority,Order Date,Order ID,Ship Date,Units Sold,Unit Price,Unit Cost,Total Revenue,Total Cost,Total Profit\\n', 'Sub-Saharan Africa,Chad,Office Supplies,Online,L,1/27/2011,292494523,2/12/2011,4484,651.21,524.96,2920025.64,2353920.64,566105.00\\n', 'Europe,Latvia,Beverages,Online,C,12/28/2015,361825549,1/23/2016,1075,47.45,31.79,51008.75,34174.25,16834.50\\n', 'Middle East and North Africa,Pakistan,Vegetables,Offline,C,1/13/2011,141515767,2/1/2011,6515,154.06,90.93,1003700.90,592408.95,411291.95\\n', 'Sub-Saharan Africa,Democratic Republic of the Congo,Household,Online,C,9/11/2012,500364005,10/6/2012,7683,668.27,502.54,5134318.41,3861014.82,1273303.59\\n']\n"
     ]
    }
   ],
   "source": [
    "print(file_data[:5]) #the problem is we can't separate columns"
   ]
  },
  {
   "cell_type": "markdown",
   "metadata": {},
   "source": [
    "## CSV is module that will help us"
   ]
  },
  {
   "cell_type": "code",
   "execution_count": 3,
   "metadata": {},
   "outputs": [],
   "source": [
    "import csv\n",
    "with open(\"C:/Users/anura/Downloads/10000 Sales Records.csv\") as file_obj:\n",
    "    file_data = csv.reader(file_obj)\n",
    "    \n",
    "#     for row in file_data:    #to print all rows\n",
    "#         print(row)"
   ]
  },
  {
   "cell_type": "code",
   "execution_count": 4,
   "metadata": {},
   "outputs": [],
   "source": [
    "\n",
    "# if data is seperated not by , like it is seperated by | lines then the code is\n",
    "# import csv\n",
    "# with open(\"C:/Users/anura/Downloads/10000 Sales Records.csv\") as file_obj:\n",
    "#     file_data = csv.reader(file_obj,delimitor = '|',skipinitialspace = True) \n",
    "# skip initial to remove space \n",
    "    \n",
    "#     for row in file_data:\n",
    "#         print(row)"
   ]
  },
  {
   "cell_type": "code",
   "execution_count": 5,
   "metadata": {},
   "outputs": [
    {
     "name": "stdout",
     "output_type": "stream",
     "text": [
      "[['Region', 'Country', 'Item Type', 'Sales Channel', 'Order Priority', 'Order Date', 'Order ID', 'Ship Date', 'Units Sold', 'Unit Price', 'Unit Cost', 'Total Revenue', 'Total Cost', 'Total Profit'], ['Sub-Saharan Africa', 'Chad', 'Office Supplies', 'Online', 'L', '1/27/2011', '292494523', '2/12/2011', '4484', '651.21', '524.96', '2920025.64', '2353920.64', '566105.00'], ['Europe', 'Latvia', 'Beverages', 'Online', 'C', '12/28/2015', '361825549', '1/23/2016', '1075', '47.45', '31.79', '51008.75', '34174.25', '16834.50'], ['Middle East and North Africa', 'Pakistan', 'Vegetables', 'Offline', 'C', '1/13/2011', '141515767', '2/1/2011', '6515', '154.06', '90.93', '1003700.90', '592408.95', '411291.95'], ['Sub-Saharan Africa', 'Democratic Republic of the Congo', 'Household', 'Online', 'C', '9/11/2012', '500364005', '10/6/2012', '7683', '668.27', '502.54', '5134318.41', '3861014.82', '1273303.59']]\n"
     ]
    }
   ],
   "source": [
    "import csv\n",
    "with open(\"C:/Users/anura/Downloads/10000 Sales Records.csv\") as file_obj:\n",
    "    file_data = csv.reader(file_obj)\n",
    "    \n",
    "    file_list = list(file_data)\n",
    "    \n",
    "print(file_list[:5])"
   ]
  },
  {
   "cell_type": "markdown",
   "metadata": {},
   "source": [
    "## Total unit sold in our csv data "
   ]
  },
  {
   "cell_type": "code",
   "execution_count": 8,
   "metadata": {},
   "outputs": [
    {
     "data": {
      "text/plain": [
       "[['Region',\n",
       "  'Country',\n",
       "  'Item Type',\n",
       "  'Sales Channel',\n",
       "  'Order Priority',\n",
       "  'Order Date',\n",
       "  'Order ID',\n",
       "  'Ship Date',\n",
       "  'Units Sold',\n",
       "  'Unit Price',\n",
       "  'Unit Cost',\n",
       "  'Total Revenue',\n",
       "  'Total Cost',\n",
       "  'Total Profit'],\n",
       " ['Sub-Saharan Africa',\n",
       "  'Chad',\n",
       "  'Office Supplies',\n",
       "  'Online',\n",
       "  'L',\n",
       "  '1/27/2011',\n",
       "  '292494523',\n",
       "  '2/12/2011',\n",
       "  '4484',\n",
       "  '651.21',\n",
       "  '524.96',\n",
       "  '2920025.64',\n",
       "  '2353920.64',\n",
       "  '566105.00'],\n",
       " ['Europe',\n",
       "  'Latvia',\n",
       "  'Beverages',\n",
       "  'Online',\n",
       "  'C',\n",
       "  '12/28/2015',\n",
       "  '361825549',\n",
       "  '1/23/2016',\n",
       "  '1075',\n",
       "  '47.45',\n",
       "  '31.79',\n",
       "  '51008.75',\n",
       "  '34174.25',\n",
       "  '16834.50']]"
      ]
     },
     "execution_count": 8,
     "metadata": {},
     "output_type": "execute_result"
    }
   ],
   "source": [
    "import csv \n",
    "with open(\"C:/Users/anura/Downloads/10000 Sales Records.csv\") as file_obj:\n",
    "    file_data = csv.reader(file_obj)\n",
    "    \n",
    "    file_list = list(file_data)\n",
    "    \n",
    "file_list[:3]"
   ]
  },
  {
   "cell_type": "code",
   "execution_count": 11,
   "metadata": {},
   "outputs": [
    {
     "name": "stdout",
     "output_type": "stream",
     "text": [
      "['4484', '1075', '6515', '7683', '3491']\n"
     ]
    }
   ],
   "source": [
    "import csv \n",
    "with open(\"C:/Users/anura/Downloads/10000 Sales Records.csv\") as file_obj:\n",
    "    file_data = csv.reader(file_obj)\n",
    "    \n",
    "    file_list = list(file_data)\n",
    "    \n",
    "unitsold = []\n",
    "for row in file_list[1:] :\n",
    "    unitsold.append(row[8])\n",
    "print(unitsold[:5])"
   ]
  },
  {
   "cell_type": "markdown",
   "metadata": {},
   "source": [
    "### The above entries are strings not integer so first we convert"
   ]
  },
  {
   "cell_type": "code",
   "execution_count": 13,
   "metadata": {},
   "outputs": [
    {
     "name": "stdout",
     "output_type": "stream",
     "text": [
      "[4484, 1075, 6515, 7683, 3491]\n"
     ]
    }
   ],
   "source": [
    "import csv \n",
    "with open(\"C:/Users/anura/Downloads/10000 Sales Records.csv\") as file_obj:\n",
    "    file_data = csv.reader(file_obj)\n",
    "    \n",
    "    file_list = list(file_data)\n",
    "    \n",
    "unitsold = []\n",
    "for row in file_list[1:] :\n",
    "    val = row[8]\n",
    "    if val != '':  #check for an empty string\n",
    "        unitsold.append(int(row[8])) #converted into strings\n",
    "print(unitsold[:5])"
   ]
  },
  {
   "cell_type": "code",
   "execution_count": 14,
   "metadata": {},
   "outputs": [
    {
     "name": "stdout",
     "output_type": "stream",
     "text": [
      "50028559\n"
     ]
    }
   ],
   "source": [
    "total_unitsold = sum(unitsold)\n",
    "print(total_unitsold)"
   ]
  },
  {
   "cell_type": "markdown",
   "metadata": {},
   "source": [
    "***"
   ]
  },
  {
   "cell_type": "markdown",
   "metadata": {},
   "source": [
    "# dict reader\n",
    "\n",
    "##### Where key will be column header and value will be value for each row"
   ]
  },
  {
   "cell_type": "code",
   "execution_count": 17,
   "metadata": {},
   "outputs": [],
   "source": [
    "import csv \n",
    "with open(\"C:/Users/anura/Downloads/10000 Sales Records.csv\") as file_obj:\n",
    "    file_data = csv.DictReader(file_obj,skipinitialspace = True) #we can assign keys with fieldname('a','b','c')\n",
    "    \n",
    "#     for row in file_data:\n",
    "#         print(row)\n",
    "    "
   ]
  },
  {
   "cell_type": "code",
   "execution_count": 25,
   "metadata": {},
   "outputs": [
    {
     "name": "stdout",
     "output_type": "stream",
     "text": [
      "292494523\n",
      "361825549\n",
      "141515767\n",
      "500364005\n",
      "127481591\n"
     ]
    }
   ],
   "source": [
    "import csv \n",
    "with open(\"C:/Users/anura/Downloads/10000 Sales Records.csv\") as file_obj:\n",
    "    file_data = csv.DictReader(file_obj,skipinitialspace = True) #we can assign keys with fieldname('a','b','c')\n",
    "    \n",
    "    i = 0\n",
    "    for row in file_data:\n",
    "        if i != 5 :\n",
    "            print(row['Order ID'])\n",
    "            i = i+1\n",
    "        else:\n",
    "            break\n",
    "    "
   ]
  },
  {
   "cell_type": "markdown",
   "metadata": {},
   "source": [
    "## country wise unit solds"
   ]
  },
  {
   "cell_type": "code",
   "execution_count": 26,
   "metadata": {},
   "outputs": [
    {
     "name": "stdout",
     "output_type": "stream",
     "text": [
      "{'Chad': 265187, 'Latvia': 207053, 'Pakistan': 226735, 'Democratic Republic of the Congo': 304071, 'Czech Republic': 255569, 'South Africa': 267752, 'Laos': 222567, 'China': 283594, 'Eritrea': 226893, 'Haiti': 257482, 'Zambia': 287658, 'Bosnia and Herzegovina': 249807, 'Germany': 291167, 'India': 287409, 'Algeria': 265512, 'Palau': 269610, 'Cuba': 244452, 'Vatican City': 282961, 'Lebanon': 230312, 'Lithuania': 367622, 'Mauritius ': 295755, 'Ukraine': 260699, 'Russia': 289990, 'Japan': 245380, 'Liechtenstein': 301517, 'Greece': 283441, 'Albania': 265337, 'Federated States of Micronesia': 264214, 'Dominica': 244974, 'Andorra': 251235, 'Switzerland': 259136, 'Trinidad and Tobago': 226042, 'San Marino': 242131, 'Nicaragua': 260645, 'Azerbaijan': 288624, 'Bangladesh': 330991, 'Serbia': 311693, 'Jamaica': 253495, 'Italy': 189268, 'Bhutan': 288595, 'Turkey': 224927, 'Bulgaria': 221539, 'Poland': 263122, 'France': 277398, 'Australia': 292815, 'Somalia': 289198, 'Slovenia': 272699, 'Samoa ': 295606, 'Ghana': 260473, 'Sri Lanka': 267911, 'Guinea': 290573, 'Spain': 258298, 'Moldova ': 344636, 'Dominican Republic': 244090, 'Luxembourg': 265514, 'Kuwait': 316853, 'Saint Lucia': 224435, 'Georgia': 266333, 'Iceland': 292434, 'Malawi': 336182, 'Seychelles ': 339174, 'Montenegro': 303943, 'Estonia': 267742, 'Madagascar': 257528, 'Benin': 340647, 'Hungary': 243413, 'Senegal': 312412, 'Antigua and Barbuda ': 244630, 'Cambodia': 304802, 'Oman': 232871, 'United States of America': 312983, 'Mauritania': 236454, 'Central African Republic': 249852, 'Austria': 296124, 'Libya': 260733, 'Niger': 277817, 'Sweden': 239174, 'Tunisia ': 315974, 'Taiwan': 380647, 'Indonesia': 236922, 'Ethiopia': 339897, 'Swaziland': 345645, 'Portugal': 317068, 'Zimbabwe': 320108, 'Armenia': 235255, 'North Korea': 276125, 'Burkina Faso': 277029, 'Sao Tome and Principe': 245809, 'Tuvalu': 310007, 'Barbados': 215887, 'Mali': 151864, 'Netherlands': 279258, 'Honduras': 283297, 'Botswana': 371019, 'Lesotho': 214294, 'Togo': 227930, 'United Kingdom': 294152, 'Morocco': 341260, 'Papua New Guinea': 223882, 'New Zealand': 318946, 'Saint Kitts and Nevis ': 291071, 'Myanmar': 261213, 'Guatemala': 289233, 'Iran': 304993, 'Singapore': 195092, 'Sudan': 302203, 'Macedonia': 286045, 'Canada': 346910, 'Malta': 221647, 'Iraq': 289596, 'Thailand': 281035, 'Belize': 210888, 'Slovakia': 246683, 'Syria': 210457, 'Tonga': 216485, 'Finland': 240060, 'Namibia': 244289, 'Kenya': 307179, 'Kiribati': 356731, 'The Gambia': 221188, 'United Arab Emirates': 331864, 'Rwanda': 341464, 'Cyprus': 263520, 'Afghanistan': 288606, 'Uganda': 305607, 'Nepal': 246708, 'East Timor': 201455, 'Mongolia': 297362, 'Mozambique': 252065, 'Tajikistan': 186095, 'Saudi Arabia': 277747, 'Norway': 232386, 'Djibouti': 270788, 'Denmark': 314329, 'Nauru': 225443, 'Israel': 296155, 'Brunei': 229699, 'Croatia': 357719, 'Belarus': 239371, 'Kyrgyzstan': 268243, 'Angola': 287966, 'Romania': 240209, 'Uzbekistan': 298149, 'Tanzania': 242328, 'Vietnam': 300117, 'Comoros': 215818, 'Vanuatu': 239121, 'Saint Vincent and the Grenadines': 220529, 'Egypt': 280220, 'Ireland': 317430, 'Greenland': 236829, 'Cameroon': 227028, 'Marshall Islands': 211178, 'Yemen': 243814, 'El Salvador': 324399, 'The Bahamas': 267141, 'Maldives': 276777, 'Nigeria': 261082, 'Panama': 266024, 'Turkmenistan': 281158, 'Belgium': 223161, 'Kosovo': 291999, 'Costa Rica': 253003, 'Burundi': 336252, 'Sierra Leone': 246500, 'Equatorial Guinea': 192706, 'Grenada': 355886, 'Mexico': 258550, 'Cape Verde': 191402, 'Liberia': 214384, 'Philippines': 279959, 'Monaco': 234086, 'Kazakhstan': 279353, 'Gabon': 234784, 'Fiji': 283971, 'Republic of the Congo': 266495, 'Solomon Islands': 264991, 'South Korea': 319921, 'Qatar': 328663, 'South Sudan': 244586, 'Jordan': 269355, 'Guinea-Bissau': 285233, 'Bahrain': 352432, \"Cote d'Ivoire\": 197833, 'Malaysia': 241928}\n"
     ]
    }
   ],
   "source": [
    "import csv \n",
    "with open(\"C:/Users/anura/Downloads/10000 Sales Records.csv\") as file_obj:\n",
    "    file_data = csv.DictReader(file_obj,skipinitialspace = True)\n",
    "    \n",
    "    file_list = list(file_data)\n",
    "    \n",
    "country_solds = {}\n",
    "for row in file_list:\n",
    "    key = row['Country']\n",
    "    value = row['Units Sold']\n",
    "    if value != '':\n",
    "            value = int(float(value))\n",
    "    else: value = 0\n",
    "    \n",
    "    if key in country_solds :\n",
    "        country_solds[key] += value\n",
    "    else:\n",
    "        country_solds[key] = value\n",
    "\n",
    "print(country_solds)"
   ]
  },
  {
   "cell_type": "code",
   "execution_count": null,
   "metadata": {},
   "outputs": [],
   "source": []
  }
 ],
 "metadata": {
  "kernelspec": {
   "display_name": "Python 3",
   "language": "python",
   "name": "python3"
  },
  "language_info": {
   "codemirror_mode": {
    "name": "ipython",
    "version": 3
   },
   "file_extension": ".py",
   "mimetype": "text/x-python",
   "name": "python",
   "nbconvert_exporter": "python",
   "pygments_lexer": "ipython3",
   "version": "3.8.5"
  }
 },
 "nbformat": 4,
 "nbformat_minor": 4
}

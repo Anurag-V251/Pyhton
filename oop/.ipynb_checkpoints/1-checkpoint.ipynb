{
 "cells": [
  {
   "cell_type": "code",
   "execution_count": 4,
   "metadata": {},
   "outputs": [
    {
     "name": "stdout",
     "output_type": "stream",
     "text": [
      "roger is a mammal\n",
      "my name is rodger\n"
     ]
    }
   ],
   "source": [
    "class Dog:\n",
    "    \n",
    "    #class attribute ye har ek object me hoga\n",
    "    attr1 = \"mammal\"\n",
    "    \n",
    "    #instance attribute ye vo hai jo object ke sath define kar denge\n",
    "    def __init__(self,name):\n",
    "        self.name = name    #self = dog then self.name = kutte ka naam\n",
    "        \n",
    "rodger = Dog(\"rodger\")\n",
    "tommy = Dog(\"tommy\")\n",
    "\n",
    "#now accessing class atrributes\n",
    "print(\"roger is a {}\".format(rodger.attr1))\n",
    "\n",
    "#accessing instance attributes\n",
    "print(\"my name is {}\".format(rodger.name))"
   ]
  },
  {
   "cell_type": "markdown",
   "metadata": {},
   "source": [
    "### inheritence in python ek ki property dusre me lena"
   ]
  },
  {
   "cell_type": "code",
   "execution_count": 7,
   "metadata": {},
   "outputs": [
    {
     "name": "stdout",
     "output_type": "stream",
     "text": [
      "Rahul\n",
      "83832\n",
      "My name is Rahul\n",
      "Idnumber: 83832\n",
      "Post: intern\n"
     ]
    }
   ],
   "source": [
    "#parent class jiski property le rahe ho\n",
    "\n",
    "class Person(object):\n",
    "    \n",
    "    #__init__ is known as the constructor\n",
    "    def __init__(self,name,idnumber):\n",
    "        self.name = name\n",
    "        self.idnumber = idnumber\n",
    "    def display(self):\n",
    "        print(self.name)\n",
    "        print(self.idnumber)\n",
    "    def details(self):\n",
    "        print(\"my name is {}\".format(self.name))\n",
    "        print(\"Idnumber: {}\".format(self.idnumber))\n",
    "        \n",
    "#child class jisme parent ki properties pahle se hongi\n",
    "\n",
    "class Employee(Person):\n",
    "    def __init__(self,name,idnumber,salary,post):\n",
    "        self.salary = salary\n",
    "        self.post = post\n",
    "        \n",
    "        #invoking the __init__ of parent class\n",
    "        Person.__init__(self,name,idnumber)\n",
    "        \n",
    "    def details(self):\n",
    "        print(\"My name is {}\".format(self.name))\n",
    "        print(\"Idnumber: {}\".format(self.idnumber))\n",
    "        print(\"Post: {}\".format(self.post))\n",
    "        \n",
    "a = Employee('Rahul',83832,200000,\"intern\")\n",
    "\n",
    "a.display()\n",
    "a.details()"
   ]
  },
  {
   "cell_type": "markdown",
   "metadata": {},
   "source": [
    "### Data hiding"
   ]
  },
  {
   "cell_type": "code",
   "execution_count": 10,
   "metadata": {},
   "outputs": [
    {
     "name": "stdout",
     "output_type": "stream",
     "text": [
      "2\n",
      "7\n",
      "7\n"
     ]
    },
    {
     "ename": "AttributeError",
     "evalue": "'Myclass' object has no attribute '__hiddenVariable'",
     "output_type": "error",
     "traceback": [
      "\u001b[1;31m---------------------------------------------------------------------------\u001b[0m",
      "\u001b[1;31mAttributeError\u001b[0m                            Traceback (most recent call last)",
      "\u001b[1;32m<ipython-input-10-ef108833e869>\u001b[0m in \u001b[0;36m<module>\u001b[1;34m\u001b[0m\n\u001b[0;32m     15\u001b[0m \u001b[1;33m\u001b[0m\u001b[0m\n\u001b[0;32m     16\u001b[0m \u001b[1;31m#lekin hum direct hidden variable ki value nahi le sakte\u001b[0m\u001b[1;33m\u001b[0m\u001b[1;33m\u001b[0m\u001b[1;33m\u001b[0m\u001b[0m\n\u001b[1;32m---> 17\u001b[1;33m \u001b[0mprint\u001b[0m\u001b[1;33m(\u001b[0m\u001b[0mmy_obj\u001b[0m\u001b[1;33m.\u001b[0m\u001b[0m__hiddenVariable\u001b[0m\u001b[1;33m)\u001b[0m\u001b[1;33m\u001b[0m\u001b[1;33m\u001b[0m\u001b[0m\n\u001b[0m\u001b[0;32m     18\u001b[0m \u001b[1;33m\u001b[0m\u001b[0m\n",
      "\u001b[1;31mAttributeError\u001b[0m: 'Myclass' object has no attribute '__hiddenVariable'"
     ]
    }
   ],
   "source": [
    "class Myclass:\n",
    "    \n",
    "    #hidden member of Myclass\n",
    "    __hiddenVariable = 0\n",
    "    \n",
    "    def add(self,increment):\n",
    "        self.__hiddenVariable += increment\n",
    "        print(self.__hiddenVariable)\n",
    "my_obj = Myclass()\n",
    "my_obj.add(2)\n",
    "my_obj.add(5)\n",
    "\n",
    "#lekin hum ese bhi access kar sakte hai\n",
    "print(my_obj._Myclass__hiddenVariable)\n",
    "\n",
    "#lekin hum direct hidden variable ki value nahi le sakte\n",
    "print(my_obj.__hiddenVariable)\n",
    "\n"
   ]
  },
  {
   "cell_type": "markdown",
   "metadata": {},
   "source": [
    "### Printing Objects"
   ]
  },
  {
   "cell_type": "code",
   "execution_count": 11,
   "metadata": {},
   "outputs": [
    {
     "name": "stdout",
     "output_type": "stream",
     "text": [
      "from str method of testL: a is 1234,b is 5678\n",
      "[test a:1234 b:5678]\n"
     ]
    }
   ],
   "source": [
    "class Test:\n",
    "    def __init__(self,a,b):\n",
    "        self.a = a\n",
    "        self.b = b\n",
    "    def __repr__(self):\n",
    "        return \"test a:%s b:%s\" % (self.a,self.b)\n",
    "    def __str__(self):\n",
    "        return \"from str method of testL: a is %s,\" \\\n",
    "                \"b is %s\" % (self.a,self.b)\n",
    "t = Test(1234,5678)\n",
    "print(t) #this callls __str__()\n",
    "print([t]) #this calls __repr__()"
   ]
  },
  {
   "cell_type": "markdown",
   "metadata": {},
   "source": [
    "### if no __str__ method is present then it calls __repr__ if this also is not present then it calls the default one"
   ]
  },
  {
   "cell_type": "markdown",
   "metadata": {},
   "source": [
    "---"
   ]
  },
  {
   "cell_type": "markdown",
   "metadata": {},
   "source": [
    "Some examples of inheritence"
   ]
  },
  {
   "cell_type": "code",
   "execution_count": 23,
   "metadata": {},
   "outputs": [
    {
     "name": "stdout",
     "output_type": "stream",
     "text": [
      "Anurag\n",
      "None\n",
      "False\n",
      "Rahul\n",
      "None True\n"
     ]
    }
   ],
   "source": [
    "class Person:\n",
    "    def __init__(self,name):\n",
    "        self.name = name\n",
    "    # to get name\n",
    "    def getName(self):\n",
    "        return print(self.name)\n",
    "    #checking if person is employee\n",
    "    def isEmployee(self):\n",
    "        return False\n",
    "    \n",
    "class Employee(Person): #eske pass Person ki saari properties and methods honge\n",
    "    def isEmployee(self):\n",
    "        return True\n",
    "    \n",
    "emp = Person(\"Anurag\") # an object of Person means is not employee\n",
    "print(emp.getName())\n",
    "print(emp.isEmployee())\n",
    "\n",
    "emp1 = Employee(\"Rahul\") #an object of employee means is employee\n",
    "print(emp1.getName(),emp1.isEmployee())"
   ]
  },
  {
   "cell_type": "code",
   "execution_count": null,
   "metadata": {},
   "outputs": [],
   "source": []
  }
 ],
 "metadata": {
  "kernelspec": {
   "display_name": "Python 3",
   "language": "python",
   "name": "python3"
  },
  "language_info": {
   "codemirror_mode": {
    "name": "ipython",
    "version": 3
   },
   "file_extension": ".py",
   "mimetype": "text/x-python",
   "name": "python",
   "nbconvert_exporter": "python",
   "pygments_lexer": "ipython3",
   "version": "3.8.5"
  }
 },
 "nbformat": 4,
 "nbformat_minor": 4
}
